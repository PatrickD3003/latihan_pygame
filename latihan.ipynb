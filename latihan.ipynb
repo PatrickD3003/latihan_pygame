{
 "cells": [
  {
   "cell_type": "code",
   "execution_count": 36,
   "metadata": {},
   "outputs": [
    {
     "ename": "",
     "evalue": "",
     "output_type": "error",
     "traceback": [
      "\u001b[1;31mThe Kernel crashed while executing code in the the current cell or a previous cell. Please review the code in the cell(s) to identify a possible cause of the failure. Click <a href='https://aka.ms/vscodeJupyterKernelCrash'>here</a> for more info. View Jupyter <a href='command:jupyter.viewOutput'>log</a> for further details."
     ]
    }
   ],
   "source": [
    "import pygame\n",
    "import os\n",
    "WIDTH, HEIGHT = 900, 500\n",
    "WIN = pygame.display.set_mode((WIDTH, HEIGHT))\n",
    "pygame.display.set_caption(\"First Game!\")\n",
    "\n",
    "WHITE = (255, 255, 255)\n",
    "BLACK = (0, 0, 0)\n",
    "BORDER = pygame.Rect(WIDTH/2 - 5, 0, 10, HEIGHT)\n",
    "\n",
    "FPS = 60\n",
    "VEL = 5\n",
    "SPACESHIP_WIDTH  = 55\n",
    "SPACESHIP_HEIGHT = 40\n",
    "\n",
    "\n",
    "YELLOW_SPACESHIP_IMAGE = pygame.image.load(os.path.join(\"Assets\", \"spaceship_yellow.png\"))\n",
    "YELLOW_SPACESHIP = pygame.transform.rotate(pygame.transform.scale(\n",
    "    YELLOW_SPACESHIP_IMAGE, (SPACESHIP_WIDTH, SPACESHIP_HEIGHT)), 90)\n",
    "\n",
    "RED_SPACESHIP_IMAGE = pygame.image.load(os.path.join(\"Assets\", \"spaceship_red.png\"))\n",
    "RED_SPACESHIP = pygame.transform.rotate(pygame.transform.scale(\n",
    "    RED_SPACESHIP_IMAGE, (SPACESHIP_WIDTH, SPACESHIP_HEIGHT)), 270)\n",
    "\n",
    "\n",
    "def draw_window(red, yellow):\n",
    "    WIN.fill(WHITE)  # background harus layer paling belakang\n",
    "    pygame.draw.rect(WIN, BLACK, BORDER)\n",
    "    WIN.blit(YELLOW_SPACESHIP, (yellow.x, yellow.y))\n",
    "    WIN.blit(RED_SPACESHIP, (red.x, red.y))\n",
    "    pygame.display.update()  # harus di update manually setiap ada perubahan \n",
    "\n",
    "def main():\n",
    "    red = pygame.Rect(700, 300, SPACESHIP_WIDTH, SPACESHIP_HEIGHT)\n",
    "    yellow = pygame.Rect(100, 300, SPACESHIP_WIDTH, SPACESHIP_HEIGHT)\n",
    "\n",
    "    clock = pygame.time.Clock()\n",
    "    run = True\n",
    "    while run:\n",
    "        clock.tick(FPS)\n",
    "        for event in pygame.event.get():\n",
    "            if event.type == pygame.QUIT:\n",
    "                run = False\n",
    "\n",
    "        keys_pressed = pygame.key.get_pressed()\n",
    "        yellow_handle_movement(keys_pressed, yellow)\n",
    "        red_handle_movement(keys_pressed, red)\n",
    "        draw_window(red, yellow)\n",
    "    pygame.quit()\n",
    "\n",
    "def yellow_handle_movement(keys_pressed, yellow):\n",
    "    if keys_pressed[pygame.K_a] and yellow.x - VEL > 0:  # LEFT\n",
    "        yellow.x -= VEL\n",
    "    if keys_pressed[pygame.K_d] and yellow.x + VEL + yellow.width < BORDER.x: # RIGHT\n",
    "        yellow.x += VEL\n",
    "    if keys_pressed[pygame.K_w] and yellow.y - VEL > 0:  # UP\n",
    "        yellow.y -= VEL\n",
    "    if keys_pressed[pygame.K_s] and yellow.y + VEL + yellow.height < HEIGHT - 15:  # DOWN\n",
    "        yellow.y += VEL\n",
    "\n",
    "def red_handle_movement(keys_pressed, red):\n",
    "    if keys_pressed[pygame.K_LEFT] and red.x - VEL > 0:  # LEFT\n",
    "        red.x -= VEL\n",
    "    if keys_pressed[pygame.K_RIGHT]:  # RIGHT\n",
    "        red.x += VEL\n",
    "    if keys_pressed[pygame.K_UP]:  # UP\n",
    "        red.y -= VEL\n",
    "    if keys_pressed[pygame.K_DOWN]:  # RIGHT\n",
    "        red.y += VEL\n",
    "\n",
    "if __name__ == \"__main__\":\n",
    "    main()\n"
   ]
  },
  {
   "cell_type": "code",
   "execution_count": null,
   "metadata": {},
   "outputs": [],
   "source": []
  },
  {
   "cell_type": "code",
   "execution_count": null,
   "metadata": {},
   "outputs": [],
   "source": []
  }
 ],
 "metadata": {
  "kernelspec": {
   "display_name": "Python 3.9.6 64-bit",
   "language": "python",
   "name": "python3"
  },
  "language_info": {
   "codemirror_mode": {
    "name": "ipython",
    "version": 3
   },
   "file_extension": ".py",
   "mimetype": "text/x-python",
   "name": "python",
   "nbconvert_exporter": "python",
   "pygments_lexer": "ipython3",
   "version": "3.9.6"
  },
  "orig_nbformat": 4,
  "vscode": {
   "interpreter": {
    "hash": "31f2aee4e71d21fbe5cf8b01ff0e069b9275f58929596ceb00d14d90e3e16cd6"
   }
  }
 },
 "nbformat": 4,
 "nbformat_minor": 2
}
